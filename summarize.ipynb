{
  "nbformat": 4,
  "nbformat_minor": 0,
  "metadata": {
    "colab": {
      "provenance": []
    },
    "kernelspec": {
      "name": "python3",
      "display_name": "Python 3"
    },
    "language_info": {
      "name": "python"
    }
  },
  "cells": [
    {
      "cell_type": "code",
      "execution_count": 1,
      "metadata": {
        "colab": {
          "base_uri": "https://localhost:8080/"
        },
        "id": "7lpVdHQ-KfQf",
        "outputId": "b3ee71dd-6dcc-4860-9942-4d9550596bd7"
      },
      "outputs": [
        {
          "output_type": "stream",
          "name": "stdout",
          "text": [
            "star.md 文件生成成功！\n"
          ]
        }
      ],
      "source": [
        "\n",
        "\n",
        "# GitHub API URL\n",
        "url = f'https://api.github.com/users/{username}/starred'\n",
        "headers = {\"Authorization\": f\"token {token}\"}\n",
        "\n",
        "# 初始化存储列表\n",
        "starred_repos = []\n",
        "\n",
        "# 先测试一次效果\n",
        "response = requests.get(url, headers=headers)\n",
        "if response.status_code == 200:\n",
        "    repos = response.json()\n",
        "    starred_repos.extend(repos)\n",
        "    # 输出调试信息\n",
        "    print(f\"第一次请求成功，获取到 {len(repos)} 个仓库信息\")\n",
        "    # 获取下一页的 URL（如果有）\n",
        "    url = response.links.get('next', {}).get('url')\n",
        "else:\n",
        "    print(f\"请求失败，状态码：{response.status_code}\")\n",
        "    url = None  # 停止循环\n",
        "\n",
        "# 循环读取所有分页的仓库数据\n",
        "while url:\n",
        "    response = requests.get(url, headers=headers)\n",
        "    if response.status_code == 200:\n",
        "        repos = response.json()\n",
        "        starred_repos.extend(repos)\n",
        "        # 输出调试信息\n",
        "        print(f\"请求成功，获取到 {len(repos)} 个仓库信息，当前已获取 {len(starred_repos)} 个仓库\")\n",
        "        # 获取下一页的 URL（如果有）\n",
        "        url = response.links.get('next', {}).get('url')\n",
        "    else:\n",
        "        print(f\"请求失败，状态码：{response.status_code}\")\n",
        "        break\n",
        "\n",
        "# 保存到本地 star.md 文件\n",
        "with open('stars.md', 'w', encoding='utf-8') as file:\n",
        "    for repo in starred_repos:\n",
        "        name = repo['name']\n",
        "        description = repo['description'] or 'No description'\n",
        "        html_url = repo['html_url']\n",
        "        category = 'Unknown Category'  # 默认分类\n",
        "        tags = []  # 默认无标签\n",
        "        # 格式化写入\n",
        "        file.write(f\"- **Name**: {name}\\n\")\n",
        "        file.write(f\"  - **Description**: {description}\\n\")\n",
        "        file.write(f\"  - **URL**: {html_url}\\n\")\n",
        "        file.write(f\"  - **Category**: {category}\\n\")\n",
        "        file.write(f\"  - **Tags**: {tags}\\n\\n\")\n",
        "\n",
        "print('star.md 文件生成成功！')"
      ]
    },
    {
      "cell_type": "code",
      "source": [
        "!apt-get update -y"
      ],
      "metadata": {
        "colab": {
          "base_uri": "https://localhost:8080/"
        },
        "id": "vhh4LkHGS0uv",
        "outputId": "021dcbe6-848a-4e0a-d10f-5107f6b2b24d"
      },
      "execution_count": 7,
      "outputs": [
        {
          "output_type": "stream",
          "name": "stdout",
          "text": [
            "\r0% [Working]\r            \rGet:1 https://cloud.r-project.org/bin/linux/ubuntu jammy-cran40/ InRelease [3,626 B]\n",
            "\r0% [Connecting to archive.ubuntu.com (185.125.190.82)] [Waiting for headers] [1 InRelease 0 B/3,626 \r0% [Connecting to archive.ubuntu.com (185.125.190.82)] [Waiting for headers] [Waiting for headers] [\r                                                                                                    \rHit:2 https://developer.download.nvidia.com/compute/cuda/repos/ubuntu2204/x86_64  InRelease\n",
            "\r0% [Connecting to archive.ubuntu.com (185.125.190.82)] [Waiting for headers] [Waiting for headers] [\r                                                                                                    \rGet:3 http://security.ubuntu.com/ubuntu jammy-security InRelease [129 kB]\n",
            "Get:4 https://r2u.stat.illinois.edu/ubuntu jammy InRelease [6,555 B]\n",
            "Hit:5 http://archive.ubuntu.com/ubuntu jammy InRelease\n",
            "Get:6 http://archive.ubuntu.com/ubuntu jammy-updates InRelease [128 kB]\n",
            "Hit:7 https://ppa.launchpadcontent.net/deadsnakes/ppa/ubuntu jammy InRelease\n",
            "Get:8 https://r2u.stat.illinois.edu/ubuntu jammy/main amd64 Packages [2,630 kB]\n",
            "Hit:9 https://ppa.launchpadcontent.net/graphics-drivers/ppa/ubuntu jammy InRelease\n",
            "Hit:10 https://ppa.launchpadcontent.net/ubuntugis/ppa/ubuntu jammy InRelease\n",
            "Get:11 http://archive.ubuntu.com/ubuntu jammy-backports InRelease [127 kB]\n",
            "Get:12 https://r2u.stat.illinois.edu/ubuntu jammy/main all Packages [8,566 kB]\n",
            "Get:13 http://security.ubuntu.com/ubuntu jammy-security/universe amd64 Packages [1,226 kB]\n",
            "Get:14 http://security.ubuntu.com/ubuntu jammy-security/restricted amd64 Packages [3,448 kB]\n",
            "Get:15 http://security.ubuntu.com/ubuntu jammy-security/main amd64 Packages [2,517 kB]\n",
            "Get:16 http://archive.ubuntu.com/ubuntu jammy-updates/universe amd64 Packages [1,517 kB]\n",
            "Get:17 http://archive.ubuntu.com/ubuntu jammy-updates/main amd64 Packages [2,830 kB]\n",
            "Get:18 http://archive.ubuntu.com/ubuntu jammy-updates/restricted amd64 Packages [3,614 kB]\n",
            "Get:19 http://archive.ubuntu.com/ubuntu jammy-backports/universe amd64 Packages [33.8 kB]\n",
            "Get:20 http://archive.ubuntu.com/ubuntu jammy-backports/main amd64 Packages [81.4 kB]\n",
            "Fetched 26.9 MB in 3s (8,925 kB/s)\n",
            "Reading package lists... Done\n",
            "W: Skipping acquire of configured file 'main/source/Sources' as repository 'https://r2u.stat.illinois.edu/ubuntu jammy InRelease' does not seem to provide it (sources.list entry misspelt?)\n"
          ]
        }
      ]
    },
    {
      "cell_type": "code",
      "source": [
        "!apt-get install -y iputils-ping\n"
      ],
      "metadata": {
        "colab": {
          "base_uri": "https://localhost:8080/"
        },
        "id": "TinqfD8dS3uY",
        "outputId": "3c1cf8e6-cb1e-457f-90cc-dd962b5c6f79"
      },
      "execution_count": 8,
      "outputs": [
        {
          "output_type": "stream",
          "name": "stdout",
          "text": [
            "Reading package lists... Done\n",
            "Building dependency tree... Done\n",
            "Reading state information... Done\n",
            "The following NEW packages will be installed:\n",
            "  iputils-ping\n",
            "0 upgraded, 1 newly installed, 0 to remove and 50 not upgraded.\n",
            "Need to get 42.9 kB of archives.\n",
            "After this operation, 116 kB of additional disk space will be used.\n",
            "Get:1 http://archive.ubuntu.com/ubuntu jammy/main amd64 iputils-ping amd64 3:20211215-1 [42.9 kB]\n",
            "Fetched 42.9 kB in 0s (126 kB/s)\n",
            "Selecting previously unselected package iputils-ping.\n",
            "(Reading database ... 123634 files and directories currently installed.)\n",
            "Preparing to unpack .../iputils-ping_3%3a20211215-1_amd64.deb ...\n",
            "Unpacking iputils-ping (3:20211215-1) ...\n",
            "Setting up iputils-ping (3:20211215-1) ...\n",
            "Processing triggers for man-db (2.10.2-1) ...\n"
          ]
        }
      ]
    },
    {
      "cell_type": "code",
      "source": [
        "!ping google.com"
      ],
      "metadata": {
        "colab": {
          "base_uri": "https://localhost:8080/"
        },
        "id": "Xyi0JNDvSjrg",
        "outputId": "0a432b01-3848-498d-d4c1-9b5140837bef"
      },
      "execution_count": 9,
      "outputs": [
        {
          "output_type": "stream",
          "name": "stdout",
          "text": [
            "PING google.com (74.125.26.113) 56(84) bytes of data.\n",
            "64 bytes from vh-in-f113.1e100.net (74.125.26.113): icmp_seq=1 ttl=117 time=2.57 ms\n",
            "64 bytes from vh-in-f113.1e100.net (74.125.26.113): icmp_seq=2 ttl=117 time=0.378 ms\n",
            "64 bytes from vh-in-f113.1e100.net (74.125.26.113): icmp_seq=3 ttl=117 time=0.368 ms\n",
            "64 bytes from vh-in-f113.1e100.net (74.125.26.113): icmp_seq=4 ttl=117 time=0.445 ms\n",
            "64 bytes from vh-in-f113.1e100.net (74.125.26.113): icmp_seq=5 ttl=117 time=0.456 ms\n",
            "64 bytes from vh-in-f113.1e100.net (74.125.26.113): icmp_seq=6 ttl=117 time=0.447 ms\n",
            "64 bytes from vh-in-f113.1e100.net (74.125.26.113): icmp_seq=7 ttl=117 time=0.453 ms\n",
            "64 bytes from vh-in-f113.1e100.net (74.125.26.113): icmp_seq=8 ttl=117 time=0.388 ms\n",
            "64 bytes from vh-in-f113.1e100.net (74.125.26.113): icmp_seq=9 ttl=117 time=0.491 ms\n",
            "\n",
            "--- google.com ping statistics ---\n",
            "9 packets transmitted, 9 received, 0% packet loss, time 8012ms\n",
            "rtt min/avg/max/mdev = 0.368/0.665/2.565/0.672 ms\n"
          ]
        }
      ]
    },
    {
      "cell_type": "markdown",
      "source": [
        "安装gemeny"
      ],
      "metadata": {
        "id": "PVgDOQ-6Tvdf"
      }
    },
    {
      "cell_type": "code",
      "source": [
        "!pip install -q -U google-generativeai"
      ],
      "metadata": {
        "id": "NmmvuaWoTrto"
      },
      "execution_count": 10,
      "outputs": []
    },
    {
      "cell_type": "code",
      "source": [
        "import pathlib\n",
        "import textwrap\n",
        "import requests\n",
        "import json\n",
        "from google.colab import userdata\n",
        "import google.generativeai as genai\n",
        "import time\n",
        "\n",
        "from IPython.display import display\n",
        "from IPython.display import Markdown\n",
        "\n",
        "\n",
        "\n",
        "# 替换为您的 GitHub 用户名和个人访问令牌\n",
        "username = userdata.get('GITHUB_NAME')\n",
        "token = userdata.get('GITHUB_TOKEN')\n",
        "\n",
        "\n",
        "def to_markdown(text):\n",
        "    text = text.replace(\"•\", \"  *\")\n",
        "    return Markdown(textwrap.indent(text, \"> \", predicate=lambda _: True))\n",
        "from google.colab import userdata\n",
        "\n",
        "\n",
        "gemini_api_key = userdata.get(\"GEMINI_API_KEY\")\n",
        "\n",
        "genai.configure(api_key=gemini_api_key)\n",
        "\n",
        "# for m in genai.list_models():\n",
        "#     if \"generateContent\" in m.supported_generation_methods:\n",
        "#         print(m.name)\n",
        "model = genai.GenerativeModel(\"gemini-1.5-flash\")\n",
        "\n",
        "def generate_repo_info(repo_url):\n",
        "    \"\"\"使用 Gemini 生成 JSON 格式的描述、分类和标签。\n",
        "\n",
        "    Args:\n",
        "        repo_url: 仓库 URL。\n",
        "\n",
        "    Returns:\n",
        "        一个包含描述、分类和标签的字典，如果生成失败则返回 None。\n",
        "    \"\"\"\n",
        "    prompt = f\"\"\"请根据以下 GitHub 仓库链接生成 JSON 格式的描述、分类和标签：\n",
        "{repo_url}\n",
        "\n",
        "JSON 格式：\n",
        "{{\n",
        "  \"description\": \"仓库描述\",\n",
        "  \"category\": \"仓库分类\",\n",
        "  \"tags\": [\"标签1\", \"标签2\", ...]\n",
        "}}\n",
        "\"\"\"\n",
        "    response = model.generate_content(prompt)\n",
        "    try:\n",
        "        # 使用 strip() 去除空白字符\n",
        "        # print(f\"Gemini API 返回的 JSON 数据：{response.text}\")\n",
        "        res_text=response.text.replace(\"```json\", \"\")\n",
        "        res_text=res_text.replace(\"```\", \"\")\n",
        "        # print(f\"JSON 数据：{res_text}\")\n",
        "        repo_info = json.loads(res_text.strip())\n",
        "        return repo_info\n",
        "    except json.JSONDecodeError:\n",
        "        print(f\"无法解析 Gemini 返回的 JSON 数据：{response.text}\")\n",
        "        return None\n",
        "\n",
        "\n",
        "\n",
        "\n",
        "# 读取 stars.md 文件并更新信息\n",
        "with open('stars.md', 'r', encoding='utf-8') as file:\n",
        "    lines = file.readlines()\n",
        "    lines_iterator = iter(lines)\n",
        "\n",
        "updated_lines = []\n",
        "processed_count = 0  # 记录已处理的仓库数量\n",
        "# 循环处理所有仓库\n",
        "lines_iterator = iter(lines)\n",
        "for line in lines_iterator:\n",
        "    if line.startswith(\"- **Name**:\"):\n",
        "        name = line.split(\":\")[1].strip()\n",
        "        url_line = next(lines_iterator, None)  # 读取下一行获取 URL\n",
        "        if url_line and url_line.startswith(\"  - **URL**:\"):\n",
        "            repo_url = url_line.split(\":\")[1].strip()\n",
        "            # 使用 Gemini 生成仓库信息\n",
        "            repo_info = generate_repo_info(repo_url)\n",
        "\n",
        "            if repo_info:\n",
        "                filename = f\"{name}.json\"  # 使用仓库名称作为文件名\n",
        "                with open(filename, 'w', encoding='utf-8') as f:\n",
        "                    json.dump(repo_info, f, indent=4, ensure_ascii=False)\n",
        "                print(f\"已保存仓库信息到 {filename}\")\n",
        "\n",
        "                # # 更新描述、分类和标签\n",
        "                updated_lines.append(line)\n",
        "                updated_lines.append(f\"  - **Description**: {repo_info['description']}\\n\")\n",
        "                updated_lines.append(f\"  - **URL**: {repo_url}\\n\")\n",
        "                updated_lines.append(f\"  - **Category**: {repo_info['category']}\\n\")\n",
        "                updated_lines.append(f\"  - **Tags**: {repo_info['tags']}\\n\\n\")\n",
        "                processed_count += 1\n",
        "                print(f\"已处理 {processed_count} 个仓库，当前仓库：{name}\")\n",
        "            else:\n",
        "                # 如果 Gemini 生成信息失败，保留原始行\n",
        "                updated_lines.append(line)\n",
        "                updated_lines.append(url_line)\n",
        "                print(f\"Gemini 生成信息失败，跳过仓库：{name}\")\n",
        "        else:\n",
        "            updated_lines.append(line)\n",
        "    else:\n",
        "        updated_lines.append(line)\n",
        "    time.sleep(1)\n",
        "\n",
        "# 将更新后的内容写回 stars.md 文件\n",
        "with open('new_stars.md', 'w', encoding='utf-8') as file:\n",
        "    file.writelines(updated_lines)\n",
        "\n",
        "print('new_stars.md 文件更新成功！')\n",
        "\n",
        "\n"
      ],
      "metadata": {
        "id": "BntNV_UJTu-l"
      },
      "execution_count": null,
      "outputs": []
    },
    {
      "cell_type": "code",
      "source": [],
      "metadata": {
        "id": "S-KMy3idO1od"
      },
      "execution_count": null,
      "outputs": []
    }
  ]
}